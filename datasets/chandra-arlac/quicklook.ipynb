{
 "cells": [
  {
   "cell_type": "code",
   "execution_count": null,
   "id": "aa2831fb",
   "metadata": {},
   "outputs": [],
   "source": [
    "from pathlib import Path\n",
    "import numpy as np\n",
    "import matplotlib.pyplot as plt\n",
    "from astropy.io import fits\n",
    "from astropy.table import Table\n",
    "from astropy.wcs import WCS\n",
    "from astropy.visualization import simple_norm\n",
    "from astropy.nddata import Cutout2D\n",
    "from astropy.coordinates import SkyCoord\n",
    "from astropy import units as u\n",
    "from gammapy.maps import Map\n",
    "from sherpa.astro import ui as sau"
   ]
  },
  {
   "cell_type": "markdown",
   "id": "7cb77563",
   "metadata": {},
   "source": [
    "## Observation Index"
   ]
  },
  {
   "cell_type": "code",
   "execution_count": null,
   "id": "6ec26b54",
   "metadata": {},
   "outputs": [],
   "source": [
    "PATH = Path(\"1385/\")\n",
    "\n",
    "INDEX_TABLE = Table.read(PATH / \"oif.fits\")\n",
    "INDEX_TABLE.add_index(\"MEMBER_CONTENT\")\n",
    "\n",
    "def get_filename(member_content):\n",
    "    \"\"\"Get file name\"\"\"\n",
    "    filename = INDEX_TABLE.loc[f\"{member_content:32s}\"][\"MEMBER_LOCATION\"]\n",
    "    filename = filename.strip()\n",
    "    filename = filename.replace(\".fits\", \".fits.gz\")\n",
    "    return PATH / filename"
   ]
  },
  {
   "cell_type": "markdown",
   "id": "9cca7b05",
   "metadata": {},
   "source": [
    "## Events"
   ]
  },
  {
   "cell_type": "code",
   "execution_count": null,
   "id": "28c16bb5",
   "metadata": {},
   "outputs": [],
   "source": [
    "filename = get_filename(\"EVT2\")\n",
    "events = Table.read(filename)\n",
    "events"
   ]
  },
  {
   "cell_type": "markdown",
   "id": "d3b32a8a",
   "metadata": {},
   "source": [
    "## Counts Image"
   ]
  },
  {
   "cell_type": "code",
   "execution_count": null,
   "id": "6cc27305",
   "metadata": {},
   "outputs": [],
   "source": [
    "filename = get_filename(\"HIRESIMG\")\n",
    "center = SkyCoord.from_name(\"Ar Lac\")"
   ]
  },
  {
   "cell_type": "code",
   "execution_count": null,
   "id": "4351c7b1",
   "metadata": {},
   "outputs": [],
   "source": [
    "counts = Map.read(filename)\n",
    "\n",
    "width = counts.geom.pixel_scales * 128\n",
    "counts = counts.cutout(position=center, width=width)"
   ]
  },
  {
   "cell_type": "code",
   "execution_count": null,
   "id": "23cc7673",
   "metadata": {},
   "outputs": [],
   "source": [
    "counts.plot(cmap=\"viridis\", stretch=\"log\");"
   ]
  },
  {
   "cell_type": "markdown",
   "id": "d4168551",
   "metadata": {},
   "source": [
    "## Spectrum"
   ]
  },
  {
   "cell_type": "code",
   "execution_count": null,
   "id": "20a6dc1b",
   "metadata": {},
   "outputs": [],
   "source": [
    "sau.load_data(\"1385/spectrum/ArLac.pi\")"
   ]
  },
  {
   "cell_type": "code",
   "execution_count": null,
   "id": "b9ecb840",
   "metadata": {},
   "outputs": [],
   "source": [
    "sau.notice(0.4, 6.0)\n",
    "sau.group_counts(10)"
   ]
  },
  {
   "cell_type": "code",
   "execution_count": null,
   "id": "be129bf7",
   "metadata": {},
   "outputs": [],
   "source": [
    "sau.plot_data()"
   ]
  },
  {
   "cell_type": "code",
   "execution_count": null,
   "id": "ccef521b",
   "metadata": {},
   "outputs": [],
   "source": [
    "sau.plot_arf()"
   ]
  },
  {
   "cell_type": "code",
   "execution_count": null,
   "id": "621553aa",
   "metadata": {},
   "outputs": [],
   "source": [
    "sau.set_source(sau.bbody.bb1)\n",
    "sau.bbody.bb1.ampl.val = 3e-2\n",
    "sau.bbody.bb1.kT.val = 1\n",
    "sau.plot_model()\n",
    "sau.plot_data(overplot=True)"
   ]
  },
  {
   "cell_type": "code",
   "execution_count": null,
   "id": "c8595696",
   "metadata": {},
   "outputs": [],
   "source": [
    "sau.plot_source()"
   ]
  },
  {
   "cell_type": "code",
   "execution_count": null,
   "id": "7f68b4af",
   "metadata": {},
   "outputs": [],
   "source": [
    "spectrum_chart = Table.read(\"1385/spectrum/source-flux-chart-ArLac.dat\", format=\"ascii\")"
   ]
  },
  {
   "cell_type": "code",
   "execution_count": null,
   "id": "316abc2e",
   "metadata": {},
   "outputs": [],
   "source": [
    "plt.plot(spectrum_chart[\"col1\"], spectrum_chart[\"col3\"])\n",
    "plt.xlabel(\"Energy [keV]\")"
   ]
  },
  {
   "cell_type": "code",
   "execution_count": null,
   "id": "b685db4d",
   "metadata": {},
   "outputs": [],
   "source": [
    "hdulist = fits.open(\"1385/psf/chart/HRMA_ra332.17008_dec45.74225_source-flux-chart-ArLac.dat_dithered_i0000_rays.fits\")"
   ]
  },
  {
   "cell_type": "code",
   "execution_count": null,
   "id": "2f4d0854",
   "metadata": {},
   "outputs": [],
   "source": [
    "hdulist.info()"
   ]
  },
  {
   "cell_type": "code",
   "execution_count": null,
   "id": "6c13f445",
   "metadata": {},
   "outputs": [],
   "source": []
  }
 ],
 "metadata": {
  "kernelspec": {
   "display_name": "Python 3 (ipykernel)",
   "language": "python",
   "name": "python3"
  },
  "language_info": {
   "codemirror_mode": {
    "name": "ipython",
    "version": 3
   },
   "file_extension": ".py",
   "mimetype": "text/x-python",
   "name": "python",
   "nbconvert_exporter": "python",
   "pygments_lexer": "ipython3",
   "version": "3.9.9"
  }
 },
 "nbformat": 4,
 "nbformat_minor": 5
}
